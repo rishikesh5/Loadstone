{
  "nbformat": 4,
  "nbformat_minor": 0,
  "metadata": {
    "colab": {
      "name": "Loadstone.ipynb",
      "provenance": [],
      "collapsed_sections": []
    },
    "kernelspec": {
      "name": "python3",
      "display_name": "Python 3"
    },
    "language_info": {
      "name": "python"
    }
  },
  "cells": [
    {
      "cell_type": "code",
      "metadata": {
        "id": "s0F9X6T-2vUC"
      },
      "source": [
        "import pandas as pd"
      ],
      "execution_count": null,
      "outputs": []
    },
    {
      "cell_type": "code",
      "metadata": {
        "id": "cla5WPha5D3N"
      },
      "source": [
        "grill_details = pd.read_csv('SheetA.csv')\n",
        "grill_details"
      ],
      "execution_count": null,
      "outputs": []
    },
    {
      "cell_type": "code",
      "metadata": {
        "id": "r-MApdpiKaMD"
      },
      "source": [
        " usr_exp = pd.read_csv('SheetB.csv')\n",
        " usr_exp"
      ],
      "execution_count": null,
      "outputs": []
    },
    {
      "cell_type": "code",
      "metadata": {
        "id": "wUw1V2zOKaSz"
      },
      "source": [
        "usr_pref = pd.read_csv('SheetC.csv')\n",
        "usr_pref"
      ],
      "execution_count": null,
      "outputs": []
    },
    {
      "cell_type": "code",
      "metadata": {
        "id": "SnylmDmUKh2G"
      },
      "source": [
        "#checking for missing values\n",
        "grill_details.isnull().sum()"
      ],
      "execution_count": null,
      "outputs": []
    },
    {
      "cell_type": "code",
      "metadata": {
        "id": "s_3kyVqpKaZC"
      },
      "source": [
        "#unique values \n",
        "usr_pref.value_counts()\n",
        "usr_exp.value_counts()"
      ],
      "execution_count": null,
      "outputs": []
    },
    {
      "cell_type": "code",
      "metadata": {
        "id": "7iAuj4rtKgDz"
      },
      "source": [
        "\n",
        "#no missing values found\n",
        "usr_pref.isnull().sum()\n",
        "usr_exp.isnull().sum()"
      ],
      "execution_count": null,
      "outputs": []
    },
    {
      "cell_type": "code",
      "metadata": {
        "colab": {
          "base_uri": "https://localhost:8080/",
          "height": 111
        },
        "id": "rzOmMRH16DHB",
        "outputId": "92cd7a5c-88fa-48a7-c8e2-ae6ae3297ee3"
      },
      "source": [
        "#Q2.Which grill type is more fuel efficient based on sheetA\n",
        "grill_details\n",
        "#Propane grill type is more fuel efficient based on sheetA"
      ],
      "execution_count": null,
      "outputs": [
        {
          "output_type": "execute_result",
          "data": {
            "text/html": [
              "<div>\n",
              "<style scoped>\n",
              "    .dataframe tbody tr th:only-of-type {\n",
              "        vertical-align: middle;\n",
              "    }\n",
              "\n",
              "    .dataframe tbody tr th {\n",
              "        vertical-align: top;\n",
              "    }\n",
              "\n",
              "    .dataframe thead th {\n",
              "        text-align: right;\n",
              "    }\n",
              "</style>\n",
              "<table border=\"1\" class=\"dataframe\">\n",
              "  <thead>\n",
              "    <tr style=\"text-align: right;\">\n",
              "      <th></th>\n",
              "      <th>grill_type</th>\n",
              "      <th>pre_heat_time</th>\n",
              "      <th>fuel_cost_per_meal</th>\n",
              "      <th>market_share</th>\n",
              "      <th>easiness_to_use</th>\n",
              "      <th>life_span_year</th>\n",
              "      <th>initial_investment</th>\n",
              "    </tr>\n",
              "  </thead>\n",
              "  <tbody>\n",
              "    <tr>\n",
              "      <th>0</th>\n",
              "      <td>Charcoal</td>\n",
              "      <td>1200</td>\n",
              "      <td>2.00</td>\n",
              "      <td>0.44</td>\n",
              "      <td>-1</td>\n",
              "      <td>3</td>\n",
              "      <td>91</td>\n",
              "    </tr>\n",
              "    <tr>\n",
              "      <th>1</th>\n",
              "      <td>Propane</td>\n",
              "      <td>480</td>\n",
              "      <td>1.55</td>\n",
              "      <td>0.64</td>\n",
              "      <td>2</td>\n",
              "      <td>3</td>\n",
              "      <td>139</td>\n",
              "    </tr>\n",
              "  </tbody>\n",
              "</table>\n",
              "</div>"
            ],
            "text/plain": [
              "  grill_type  pre_heat_time  ...  life_span_year  initial_investment\n",
              "0   Charcoal           1200  ...               3                  91\n",
              "1    Propane            480  ...               3                 139\n",
              "\n",
              "[2 rows x 7 columns]"
            ]
          },
          "metadata": {
            "tags": []
          },
          "execution_count": 11
        }
      ]
    },
    {
      "cell_type": "code",
      "metadata": {
        "id": "BGVnvo--6Wmw"
      },
      "source": [
        "#Q3. Which grill type has more market share\n",
        "#According to sheet A Propane grill type has more market share "
      ],
      "execution_count": null,
      "outputs": []
    },
    {
      "cell_type": "code",
      "metadata": {
        "id": "2sfExQK17KFh"
      },
      "source": [
        "#Q4. Based on the cookoff data which grill type cost more fuel on a long\n",
        "#Charcoal Costs more fuel in the long run"
      ],
      "execution_count": null,
      "outputs": []
    },
    {
      "cell_type": "code",
      "metadata": {
        "colab": {
          "base_uri": "https://localhost:8080/",
          "height": 204
        },
        "id": "W4W-k4UGUSd_",
        "outputId": "936898b1-1be6-4886-8505-705c8c2e568b"
      },
      "source": [
        "#Q9 Json to csv\n",
        "\n",
        "from pandas.io.json import json_normalize\n",
        "\n",
        "with open('SheetC.json') as f:\n",
        "  d = json.loads(f.read())\n",
        "\n",
        "json_data = json.loads(d[0].get('test_result'))\n",
        "parsed_data = list()\n",
        "\n",
        "for i in range(1, len(json_data)):\n",
        "  flat_json = dict()\n",
        "  current_row = json_data.get(str(i))\n",
        "  row_metadata = current_row.get('meta_data')\n",
        "  for x in row_metadata:\n",
        "    flat_json[x] = row_metadata[x]\n",
        "  flat_json['sample_item_index'] = current_row['sample_item_index']\n",
        "  survey_result = current_row.get('survey_result')\n",
        "  for x in survey_result:\n",
        "    flat_json[x] = survey_result[x]\n",
        "  parsed_data.append(flat_json)\n",
        "df = pd.DataFrame(parsed_data)\n",
        "df.head()\n"
      ],
      "execution_count": null,
      "outputs": [
        {
          "output_type": "execute_result",
          "data": {
            "text/html": [
              "<div>\n",
              "<style scoped>\n",
              "    .dataframe tbody tr th:only-of-type {\n",
              "        vertical-align: middle;\n",
              "    }\n",
              "\n",
              "    .dataframe tbody tr th {\n",
              "        vertical-align: top;\n",
              "    }\n",
              "\n",
              "    .dataframe thead th {\n",
              "        text-align: right;\n",
              "    }\n",
              "</style>\n",
              "<table border=\"1\" class=\"dataframe\">\n",
              "  <thead>\n",
              "    <tr style=\"text-align: right;\">\n",
              "      <th></th>\n",
              "      <th>grill_type</th>\n",
              "      <th>is_frozen</th>\n",
              "      <th>item_material</th>\n",
              "      <th>sample_item_index</th>\n",
              "      <th>guess_grill_correct</th>\n",
              "      <th>thumbs_up_score</th>\n",
              "    </tr>\n",
              "  </thead>\n",
              "  <tbody>\n",
              "    <tr>\n",
              "      <th>0</th>\n",
              "      <td>Propane</td>\n",
              "      <td>false</td>\n",
              "      <td>Hotdog</td>\n",
              "      <td>1</td>\n",
              "      <td>true</td>\n",
              "      <td>0.4</td>\n",
              "    </tr>\n",
              "    <tr>\n",
              "      <th>1</th>\n",
              "      <td>Propane</td>\n",
              "      <td>true</td>\n",
              "      <td>Hotdog</td>\n",
              "      <td>2</td>\n",
              "      <td>true</td>\n",
              "      <td>0.8</td>\n",
              "    </tr>\n",
              "    <tr>\n",
              "      <th>2</th>\n",
              "      <td>Propane</td>\n",
              "      <td>false</td>\n",
              "      <td>Hotdog</td>\n",
              "      <td>3</td>\n",
              "      <td>true</td>\n",
              "      <td>0.6</td>\n",
              "    </tr>\n",
              "    <tr>\n",
              "      <th>3</th>\n",
              "      <td>Propane</td>\n",
              "      <td>true</td>\n",
              "      <td>Hotdog</td>\n",
              "      <td>4</td>\n",
              "      <td>false</td>\n",
              "      <td>0.0</td>\n",
              "    </tr>\n",
              "    <tr>\n",
              "      <th>4</th>\n",
              "      <td>Propane</td>\n",
              "      <td>false</td>\n",
              "      <td>Hotdog</td>\n",
              "      <td>5</td>\n",
              "      <td>false</td>\n",
              "      <td>0.2</td>\n",
              "    </tr>\n",
              "  </tbody>\n",
              "</table>\n",
              "</div>"
            ],
            "text/plain": [
              "  grill_type is_frozen  ... guess_grill_correct  thumbs_up_score\n",
              "0    Propane     false  ...                true              0.4\n",
              "1    Propane      true  ...                true              0.8\n",
              "2    Propane     false  ...                true              0.6\n",
              "3    Propane      true  ...               false              0.0\n",
              "4    Propane     false  ...               false              0.2\n",
              "\n",
              "[5 rows x 6 columns]"
            ]
          },
          "metadata": {
            "tags": []
          },
          "execution_count": 147
        }
      ]
    },
    {
      "cell_type": "code",
      "metadata": {
        "id": "eo29gumraxHr"
      },
      "source": [
        "df.to_csv('Json_to_csv.csv', index_label='P.key')"
      ],
      "execution_count": 152,
      "outputs": []
    },
    {
      "cell_type": "code",
      "metadata": {
        "id": "6-Le3u-Abi7d"
      },
      "source": [
        ""
      ],
      "execution_count": null,
      "outputs": []
    },
    {
      "cell_type": "code",
      "metadata": {
        "id": "xzWqWQIWeANg"
      },
      "source": [
        ""
      ],
      "execution_count": null,
      "outputs": []
    },
    {
      "cell_type": "code",
      "metadata": {
        "id": "NbsG5wuEeZTb"
      },
      "source": [
        ""
      ],
      "execution_count": null,
      "outputs": []
    }
  ]
}